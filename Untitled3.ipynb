{
 "cells": [
  {
   "cell_type": "code",
   "execution_count": null,
   "metadata": {},
   "outputs": [],
   "source": [
    "import cv2\n",
    "\n",
    "global img\n",
    "global point1, point2\n",
    "def on_mouse(event, x, y, flags, param):\n",
    "    global img, point1, point2\n",
    "    img2 = img.copy()\n",
    "    if event == cv2.EVENT_LBUTTONDOWN:         #左键点击\n",
    "        point1 = (x,y)\n",
    "        cv2.circle(img2, point1, 10, (0,255,0), 5)\n",
    "        cv2.imshow('image', img2)\n",
    "    elif event == cv2.EVENT_MOUSEMOVE and (flags & cv2.EVENT_FLAG_LBUTTON):   #按住左键拖曳\n",
    "        cv2.rectangle(img2, point1, (x,y), (255,0,0), 5) # 图像，矩形顶点，相对顶点，颜色，粗细\n",
    "        cv2.imshow('image', img2)\n",
    "    elif event == cv2.EVENT_LBUTTONUP:         #左键释放\n",
    "        point2 = (x,y)\n",
    "        cv2.rectangle(img2, point1, point2, (0,0,255), 5) \n",
    "        cv2.imshow('image', img2)\n",
    "        min_x = min(point1[0], point2[0])     \n",
    "        min_y = min(point1[1], point2[1])\n",
    "        width = abs(point1[0] - point2[0])\n",
    "        height = abs(point1[1] -point2[1])\n",
    "        cut_img = img[min_y:min_y+height, min_x:min_x+width]\n",
    "        resize_img = cv2.resize(cut_img, (28,28)) # 调整图像尺寸为28*28\n",
    "        ret, thresh_img = cv2.threshold(resize_img,127,255,cv2.THRESH_BINARY) # 二值化\n",
    "        cv2.imshow('result', thresh_img)\n",
    "        cv2.imwrite('./images/text.png', thresh_img)  # 预处理后图像保存位置\n",
    "\n",
    "def main():\n",
    "    global img\n",
    "    img = cv2.imread('./images/testImg.png')  # 手写数字图像所在位置\n",
    "    img = cv2.cvtColor(img, cv2.COLOR_BGR2GRAY) # 转换图像为单通道(灰度图)\n",
    "    cv2.namedWindow('image')\n",
    "    cv2.setMouseCallback('image', on_mouse) # 调用回调函数\n",
    "    cv2.imshow('image', img)\n",
    "    cv2.waitKey(0)\n",
    "\n",
    "if __name__ == '__main__':\n",
    "    main()"
   ]
  },
  {
   "cell_type": "code",
   "execution_count": null,
   "metadata": {
    "collapsed": true
   },
   "outputs": [],
   "source": []
  }
 ],
 "metadata": {
  "kernelspec": {
   "display_name": "Python 3",
   "language": "python",
   "name": "python3"
  },
  "language_info": {
   "codemirror_mode": {
    "name": "ipython",
    "version": 3
   },
   "file_extension": ".py",
   "mimetype": "text/x-python",
   "name": "python",
   "nbconvert_exporter": "python",
   "pygments_lexer": "ipython3",
   "version": "3.5.4"
  }
 },
 "nbformat": 4,
 "nbformat_minor": 2
}
